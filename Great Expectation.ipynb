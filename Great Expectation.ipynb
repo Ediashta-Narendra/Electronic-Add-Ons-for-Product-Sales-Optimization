{
 "cells": [
  {
   "cell_type": "markdown",
   "metadata": {},
   "source": [
    "# Electronic Add-Ons for Product Sales Optimization Dataset\n",
    "Created by  : Ediashta Narendra - ver1.0 10 April 2024\n",
    "<br>\n",
    "Dataset     : Electronic Transaction Dataset - cleaned / electronic_data_clean.csv"
   ]
  },
  {
   "cell_type": "markdown",
   "metadata": {},
   "source": [
    "## Introduction\n",
    "\n",
    "Created by: **Ediashta Narendra**\n",
    "\n",
    "This project is designed to automate the process of extracting electronic product transaction data from PostgreSQL, performing data cleaning in Python, and exporting the processed dataset into Elasticsearch for further analysis and visualization using Kibana. The pipeline is orchestrated using Apache Airflow and containerized with Docker for portability and scalability.\n",
    "\n",
    "The dataset includes electronic transaction records from **2023 to 2024**, consisting of approximately **20,000 rows**. The raw dataset (`electronic_data_raw.csv`) and the cleaned dataset (`electronic_data_clean.csv`) are both included in this repository.\n",
    "\n",
    "\n",
    "## Validation Objectives\n",
    "\n",
    "To ensure the reliability and quality of the cleaned dataset, **Great Expectations** is integrated into the pipeline. The validation covers multiple data integrity and quality checks, including:\n",
    "\n",
    "- **Data Consistency**:\n",
    "  - `expect_column_values_to_be_in_set`: Ensures values are limited to valid sets (e.g., `gender`, `payment_method`, `rating`).\n",
    "  - `expect_column_values_to_match_regex`: Enforces consistent ID formats (e.g., `transaction_id` follows a strict pattern like `^TRS\\d{6}\\d{4}$`).\n",
    "\n",
    "- **Uniqueness and Completeness**:\n",
    "  - `expect_column_values_to_be_unique`: Guarantees that transaction IDs are unique.\n",
    "  - `expect_column_value_lengths_to_equal`: Validates ID length (e.g., `transaction_id` must be 13 characters long).\n",
    "\n",
    "- **Type and Range Validation**:\n",
    "  - `expect_column_values_to_be_in_type_list`: Ensures fields like `customer_id` are of the correct type.\n",
    "  - `expect_column_min_to_be_between` and `expect_column_max_to_be_between`: Validate that values such as `age` fall within acceptable ranges.\n",
    "  - `expect_column_pair_values_a_to_be_greater_than_b`: Confirms logical relationships (e.g., `total_price` ≥ `unit_price`).\n",
    "\n",
    "These validations help detect anomalies early, prevent downstream errors, and maintain high data quality throughout the pipeline.\n"
   ]
  },
  {
   "cell_type": "markdown",
   "metadata": {},
   "source": [
    "## Import & Install Libraries"
   ]
  },
  {
   "cell_type": "code",
   "execution_count": null,
   "metadata": {},
   "outputs": [],
   "source": [
    "# Install the gx\n",
    "!pip install -q \"great-expectations==0.18.19\""
   ]
  },
  {
   "cell_type": "code",
   "execution_count": 3,
   "metadata": {},
   "outputs": [
    {
     "name": "stdout",
     "output_type": "stream",
     "text": [
      "Requirement already satisfied: pydantic in /Applications/anaconda3/lib/python3.12/site-packages (2.9.2)\n",
      "Requirement already satisfied: annotated-types>=0.6.0 in /Applications/anaconda3/lib/python3.12/site-packages (from pydantic) (0.6.0)\n",
      "Requirement already satisfied: pydantic-core==2.23.4 in /Applications/anaconda3/lib/python3.12/site-packages (from pydantic) (2.23.4)\n",
      "Requirement already satisfied: typing-extensions>=4.6.1 in /Applications/anaconda3/lib/python3.12/site-packages (from pydantic) (4.11.0)\n",
      "Note: you may need to restart the kernel to use updated packages.\n"
     ]
    }
   ],
   "source": [
    "pip install --upgrade pydantic"
   ]
  },
  {
   "cell_type": "code",
   "execution_count": null,
   "metadata": {},
   "outputs": [],
   "source": [
    "#import library\n",
    "from great_expectations.data_context import FileDataContext"
   ]
  },
  {
   "cell_type": "markdown",
   "metadata": {},
   "source": [
    "## Create Data Context\n"
   ]
  },
  {
   "cell_type": "code",
   "execution_count": null,
   "metadata": {},
   "outputs": [],
   "source": [
    "# Create a data context\n",
    "context = FileDataContext.create(project_root_dir='./')"
   ]
  },
  {
   "cell_type": "markdown",
   "metadata": {},
   "source": [
    "## Connect to a Datasource"
   ]
  },
  {
   "cell_type": "code",
   "execution_count": 8,
   "metadata": {},
   "outputs": [],
   "source": [
    "# Give a name to a Datasource. This name must be unique between Datasources.\n",
    "datasource_name = 'csv-electronic-transaction'\n",
    "datasource = context.sources.add_pandas(datasource_name)\n",
    "\n",
    "# Give a name to a data asset\n",
    "asset_name = 'electronic-transaction-clean'\n",
    "path_to_data = '/Users/ediashtanarendra/Documents/Course 2024/FTDS 036/003_Phase 2/Githup Repo P 2/002_MS3/project-m3/dags/P2M3_ediashta_narendra_data_clean.csv'\n",
    "asset = datasource.add_csv_asset(asset_name, filepath_or_buffer=path_to_data)\n",
    "\n",
    "# Build batch request\n",
    "batch_request = asset.build_batch_request()"
   ]
  },
  {
   "cell_type": "markdown",
   "metadata": {},
   "source": [
    "## Create Expectation Suite"
   ]
  },
  {
   "cell_type": "code",
   "execution_count": 10,
   "metadata": {},
   "outputs": [
    {
     "data": {
      "application/vnd.jupyter.widget-view+json": {
       "model_id": "652957a492e54b65836bee845fbd998a",
       "version_major": 2,
       "version_minor": 0
      },
      "text/plain": [
       "Calculating Metrics:   0%|          | 0/1 [00:00<?, ?it/s]"
      ]
     },
     "metadata": {},
     "output_type": "display_data"
    },
    {
     "data": {
      "text/html": [
       "<div>\n",
       "<style scoped>\n",
       "    .dataframe tbody tr th:only-of-type {\n",
       "        vertical-align: middle;\n",
       "    }\n",
       "\n",
       "    .dataframe tbody tr th {\n",
       "        vertical-align: top;\n",
       "    }\n",
       "\n",
       "    .dataframe thead th {\n",
       "        text-align: right;\n",
       "    }\n",
       "</style>\n",
       "<table border=\"1\" class=\"dataframe\">\n",
       "  <thead>\n",
       "    <tr style=\"text-align: right;\">\n",
       "      <th></th>\n",
       "      <th>transaction_id</th>\n",
       "      <th>customer_id</th>\n",
       "      <th>age</th>\n",
       "      <th>gender</th>\n",
       "      <th>loyalty_member</th>\n",
       "      <th>product_type</th>\n",
       "      <th>sku</th>\n",
       "      <th>rating</th>\n",
       "      <th>order_status</th>\n",
       "      <th>payment_method</th>\n",
       "      <th>total_price</th>\n",
       "      <th>unit_price</th>\n",
       "      <th>quantity</th>\n",
       "      <th>purchase_date</th>\n",
       "      <th>shipping_type</th>\n",
       "      <th>add-on_total</th>\n",
       "      <th>add_on_1</th>\n",
       "      <th>add_on_2</th>\n",
       "      <th>add_on_3</th>\n",
       "    </tr>\n",
       "  </thead>\n",
       "  <tbody>\n",
       "    <tr>\n",
       "      <th>0</th>\n",
       "      <td>TRS2409230001</td>\n",
       "      <td>4914</td>\n",
       "      <td>74</td>\n",
       "      <td>Male</td>\n",
       "      <td>No</td>\n",
       "      <td>Smartwatch</td>\n",
       "      <td>SKU1003</td>\n",
       "      <td>3</td>\n",
       "      <td>Completed</td>\n",
       "      <td>Debit Card</td>\n",
       "      <td>3379.32</td>\n",
       "      <td>844.83</td>\n",
       "      <td>4</td>\n",
       "      <td>2023-09-24</td>\n",
       "      <td>Overnight</td>\n",
       "      <td>106.12</td>\n",
       "      <td>Impulse Item</td>\n",
       "      <td>Impulse Item</td>\n",
       "      <td>Extended Warranty</td>\n",
       "    </tr>\n",
       "    <tr>\n",
       "      <th>1</th>\n",
       "      <td>TRS2409230002</td>\n",
       "      <td>1035</td>\n",
       "      <td>32</td>\n",
       "      <td>Female</td>\n",
       "      <td>No</td>\n",
       "      <td>Smartphone</td>\n",
       "      <td>SKU1001</td>\n",
       "      <td>5</td>\n",
       "      <td>Completed</td>\n",
       "      <td>Cash</td>\n",
       "      <td>186.75</td>\n",
       "      <td>20.75</td>\n",
       "      <td>9</td>\n",
       "      <td>2023-09-24</td>\n",
       "      <td>Standard</td>\n",
       "      <td>0.00</td>\n",
       "      <td>NaN</td>\n",
       "      <td>NaN</td>\n",
       "      <td>NaN</td>\n",
       "    </tr>\n",
       "    <tr>\n",
       "      <th>2</th>\n",
       "      <td>TRS2409230003</td>\n",
       "      <td>4702</td>\n",
       "      <td>46</td>\n",
       "      <td>Female</td>\n",
       "      <td>No</td>\n",
       "      <td>Smartwatch</td>\n",
       "      <td>SKU1003</td>\n",
       "      <td>3</td>\n",
       "      <td>Cancelled</td>\n",
       "      <td>PayPal</td>\n",
       "      <td>1689.66</td>\n",
       "      <td>844.83</td>\n",
       "      <td>2</td>\n",
       "      <td>2023-09-24</td>\n",
       "      <td>Express</td>\n",
       "      <td>86.55</td>\n",
       "      <td>Extended Warranty</td>\n",
       "      <td>Extended Warranty</td>\n",
       "      <td>Impulse Item</td>\n",
       "    </tr>\n",
       "    <tr>\n",
       "      <th>3</th>\n",
       "      <td>TRS2409230004</td>\n",
       "      <td>1419</td>\n",
       "      <td>55</td>\n",
       "      <td>Female</td>\n",
       "      <td>Yes</td>\n",
       "      <td>Smartphone</td>\n",
       "      <td>SKU1001</td>\n",
       "      <td>5</td>\n",
       "      <td>Completed</td>\n",
       "      <td>Credit Card</td>\n",
       "      <td>124.50</td>\n",
       "      <td>20.75</td>\n",
       "      <td>6</td>\n",
       "      <td>2023-09-24</td>\n",
       "      <td>Overnight</td>\n",
       "      <td>76.59</td>\n",
       "      <td>Accessory</td>\n",
       "      <td>Accessory</td>\n",
       "      <td>Accessory</td>\n",
       "    </tr>\n",
       "    <tr>\n",
       "      <th>4</th>\n",
       "      <td>TRS2409230005</td>\n",
       "      <td>9016</td>\n",
       "      <td>61</td>\n",
       "      <td>Female</td>\n",
       "      <td>No</td>\n",
       "      <td>Smartphone</td>\n",
       "      <td>SKU1001</td>\n",
       "      <td>5</td>\n",
       "      <td>Completed</td>\n",
       "      <td>PayPal</td>\n",
       "      <td>83.00</td>\n",
       "      <td>20.75</td>\n",
       "      <td>4</td>\n",
       "      <td>2023-09-24</td>\n",
       "      <td>Express</td>\n",
       "      <td>107.39</td>\n",
       "      <td>Impulse Item</td>\n",
       "      <td>Extended Warranty</td>\n",
       "      <td>Extended Warranty</td>\n",
       "    </tr>\n",
       "  </tbody>\n",
       "</table>\n",
       "</div>"
      ],
      "text/plain": [
       "  transaction_id  customer_id  age  gender loyalty_member product_type  \\\n",
       "0  TRS2409230001         4914   74    Male             No   Smartwatch   \n",
       "1  TRS2409230002         1035   32  Female             No   Smartphone   \n",
       "2  TRS2409230003         4702   46  Female             No   Smartwatch   \n",
       "3  TRS2409230004         1419   55  Female            Yes   Smartphone   \n",
       "4  TRS2409230005         9016   61  Female             No   Smartphone   \n",
       "\n",
       "       sku  rating order_status payment_method  total_price  unit_price  \\\n",
       "0  SKU1003       3    Completed     Debit Card      3379.32      844.83   \n",
       "1  SKU1001       5    Completed           Cash       186.75       20.75   \n",
       "2  SKU1003       3    Cancelled         PayPal      1689.66      844.83   \n",
       "3  SKU1001       5    Completed    Credit Card       124.50       20.75   \n",
       "4  SKU1001       5    Completed         PayPal        83.00       20.75   \n",
       "\n",
       "   quantity purchase_date shipping_type  add-on_total           add_on_1  \\\n",
       "0         4    2023-09-24     Overnight        106.12       Impulse Item   \n",
       "1         9    2023-09-24      Standard          0.00                NaN   \n",
       "2         2    2023-09-24       Express         86.55  Extended Warranty   \n",
       "3         6    2023-09-24     Overnight         76.59          Accessory   \n",
       "4         4    2023-09-24       Express        107.39       Impulse Item   \n",
       "\n",
       "            add_on_2           add_on_3  \n",
       "0       Impulse Item  Extended Warranty  \n",
       "1                NaN                NaN  \n",
       "2  Extended Warranty       Impulse Item  \n",
       "3          Accessory          Accessory  \n",
       "4  Extended Warranty  Extended Warranty  "
      ]
     },
     "execution_count": 10,
     "metadata": {},
     "output_type": "execute_result"
    }
   ],
   "source": [
    "# Creat an expectation suite\n",
    "expectation_suite_name = 'expectation-electronic-transaction'\n",
    "context.add_or_update_expectation_suite(expectation_suite_name)\n",
    "\n",
    "# Create a validator using above expectation suite\n",
    "validator = context.get_validator(\n",
    "    batch_request = batch_request,\n",
    "    expectation_suite_name = expectation_suite_name\n",
    ")\n",
    "\n",
    "# Check the validator\n",
    "validator.head()"
   ]
  },
  {
   "cell_type": "markdown",
   "metadata": {},
   "source": [
    "## Expectation 1 - To Be Unique"
   ]
  },
  {
   "cell_type": "code",
   "execution_count": null,
   "metadata": {},
   "outputs": [
    {
     "data": {
      "application/vnd.jupyter.widget-view+json": {
       "model_id": "54e673cb98044f3a95de6585478e7aa9",
       "version_major": 2,
       "version_minor": 0
      },
      "text/plain": [
       "Calculating Metrics:   0%|          | 0/8 [00:00<?, ?it/s]"
      ]
     },
     "metadata": {},
     "output_type": "display_data"
    },
    {
     "data": {
      "text/plain": [
       "{\n",
       "  \"success\": true,\n",
       "  \"result\": {\n",
       "    \"element_count\": 20000,\n",
       "    \"unexpected_count\": 0,\n",
       "    \"unexpected_percent\": 0.0,\n",
       "    \"partial_unexpected_list\": [],\n",
       "    \"missing_count\": 0,\n",
       "    \"missing_percent\": 0.0,\n",
       "    \"unexpected_percent_total\": 0.0,\n",
       "    \"unexpected_percent_nonmissing\": 0.0\n",
       "  },\n",
       "  \"meta\": {},\n",
       "  \"exception_info\": {\n",
       "    \"raised_exception\": false,\n",
       "    \"exception_traceback\": null,\n",
       "    \"exception_message\": null\n",
       "  }\n",
       "}"
      ]
     },
     "execution_count": 11,
     "metadata": {},
     "output_type": "execute_result"
    }
   ],
   "source": [
    "# Expectation 1 : Column `transaction_id` must be unique\n",
    "validator.expect_column_values_to_be_unique('transaction_id')"
   ]
  },
  {
   "cell_type": "markdown",
   "metadata": {},
   "source": [
    "## Expectation 2 - To Be Between min_value and max_value"
   ]
  },
  {
   "cell_type": "code",
   "execution_count": null,
   "metadata": {},
   "outputs": [
    {
     "data": {
      "application/vnd.jupyter.widget-view+json": {
       "model_id": "beb6fc9c56004e29a68d3ffb8de347fa",
       "version_major": 2,
       "version_minor": 0
      },
      "text/plain": [
       "Calculating Metrics:   0%|          | 0/4 [00:00<?, ?it/s]"
      ]
     },
     "metadata": {},
     "output_type": "display_data"
    },
    {
     "data": {
      "text/plain": [
       "{\n",
       "  \"success\": true,\n",
       "  \"result\": {\n",
       "    \"observed_value\": 80\n",
       "  },\n",
       "  \"meta\": {},\n",
       "  \"exception_info\": {\n",
       "    \"raised_exception\": false,\n",
       "    \"exception_traceback\": null,\n",
       "    \"exception_message\": null\n",
       "  }\n",
       "}"
      ]
     },
     "execution_count": 13,
     "metadata": {},
     "output_type": "execute_result"
    }
   ],
   "source": [
    "# Expectation 2 : Column `age` must be between max value\n",
    "validator.expect_column_max_to_be_between(column=\"age\", min_value=17,max_value=80)"
   ]
  },
  {
   "cell_type": "code",
   "execution_count": 14,
   "metadata": {},
   "outputs": [
    {
     "data": {
      "application/vnd.jupyter.widget-view+json": {
       "model_id": "2850dfac67074b7381aadc660d42472d",
       "version_major": 2,
       "version_minor": 0
      },
      "text/plain": [
       "Calculating Metrics:   0%|          | 0/4 [00:00<?, ?it/s]"
      ]
     },
     "metadata": {},
     "output_type": "display_data"
    },
    {
     "data": {
      "text/plain": [
       "{\n",
       "  \"success\": true,\n",
       "  \"result\": {\n",
       "    \"observed_value\": 18\n",
       "  },\n",
       "  \"meta\": {},\n",
       "  \"exception_info\": {\n",
       "    \"raised_exception\": false,\n",
       "    \"exception_traceback\": null,\n",
       "    \"exception_message\": null\n",
       "  }\n",
       "}"
      ]
     },
     "execution_count": 14,
     "metadata": {},
     "output_type": "execute_result"
    }
   ],
   "source": [
    "# Expectation 3 : Column `age` must be between min value\n",
    "validator.expect_column_min_to_be_between(column=\"age\", min_value=17, max_value=80)\n"
   ]
  },
  {
   "cell_type": "markdown",
   "metadata": {},
   "source": [
    "## Expectation 3 - To Be In Set"
   ]
  },
  {
   "cell_type": "code",
   "execution_count": null,
   "metadata": {},
   "outputs": [
    {
     "data": {
      "application/vnd.jupyter.widget-view+json": {
       "model_id": "27a57acbb6bb4dbfafcd72ddc0acb04a",
       "version_major": 2,
       "version_minor": 0
      },
      "text/plain": [
       "Calculating Metrics:   0%|          | 0/8 [00:00<?, ?it/s]"
      ]
     },
     "metadata": {},
     "output_type": "display_data"
    },
    {
     "data": {
      "text/plain": [
       "{\n",
       "  \"success\": true,\n",
       "  \"result\": {\n",
       "    \"element_count\": 20000,\n",
       "    \"unexpected_count\": 0,\n",
       "    \"unexpected_percent\": 0.0,\n",
       "    \"partial_unexpected_list\": [],\n",
       "    \"missing_count\": 0,\n",
       "    \"missing_percent\": 0.0,\n",
       "    \"unexpected_percent_total\": 0.0,\n",
       "    \"unexpected_percent_nonmissing\": 0.0\n",
       "  },\n",
       "  \"meta\": {},\n",
       "  \"exception_info\": {\n",
       "    \"raised_exception\": false,\n",
       "    \"exception_traceback\": null,\n",
       "    \"exception_message\": null\n",
       "  }\n",
       "}"
      ]
     },
     "execution_count": 15,
     "metadata": {},
     "output_type": "execute_result"
    }
   ],
   "source": [
    "# Expectation 4 : Column `rating` must be in set [1, 2, 3, 4, 5]\n",
    "validator.expect_column_values_to_be_in_set(column=\"rating\",value_set=[1, 2, 3, 4, 5])"
   ]
  },
  {
   "cell_type": "code",
   "execution_count": null,
   "metadata": {},
   "outputs": [
    {
     "data": {
      "application/vnd.jupyter.widget-view+json": {
       "model_id": "11e7e51e699a4792a07f2b2c2f57177d",
       "version_major": 2,
       "version_minor": 0
      },
      "text/plain": [
       "Calculating Metrics:   0%|          | 0/8 [00:00<?, ?it/s]"
      ]
     },
     "metadata": {},
     "output_type": "display_data"
    },
    {
     "data": {
      "text/plain": [
       "{\n",
       "  \"success\": true,\n",
       "  \"result\": {\n",
       "    \"element_count\": 20000,\n",
       "    \"unexpected_count\": 0,\n",
       "    \"unexpected_percent\": 0.0,\n",
       "    \"partial_unexpected_list\": [],\n",
       "    \"missing_count\": 0,\n",
       "    \"missing_percent\": 0.0,\n",
       "    \"unexpected_percent_total\": 0.0,\n",
       "    \"unexpected_percent_nonmissing\": 0.0\n",
       "  },\n",
       "  \"meta\": {},\n",
       "  \"exception_info\": {\n",
       "    \"raised_exception\": false,\n",
       "    \"exception_traceback\": null,\n",
       "    \"exception_message\": null\n",
       "  }\n",
       "}"
      ]
     },
     "execution_count": 16,
     "metadata": {},
     "output_type": "execute_result"
    }
   ],
   "source": [
    "# Expectation 5 : Column `gender` must be in set ['Male','Female']\n",
    "validator.expect_column_values_to_be_in_set('gender', ['Male','Female'])"
   ]
  },
  {
   "cell_type": "code",
   "execution_count": null,
   "metadata": {},
   "outputs": [
    {
     "data": {
      "application/vnd.jupyter.widget-view+json": {
       "model_id": "7ca9b0c022644b5ab5a81b13161a7ce2",
       "version_major": 2,
       "version_minor": 0
      },
      "text/plain": [
       "Calculating Metrics:   0%|          | 0/8 [00:00<?, ?it/s]"
      ]
     },
     "metadata": {},
     "output_type": "display_data"
    },
    {
     "data": {
      "text/plain": [
       "{\n",
       "  \"success\": true,\n",
       "  \"result\": {\n",
       "    \"element_count\": 20000,\n",
       "    \"unexpected_count\": 0,\n",
       "    \"unexpected_percent\": 0.0,\n",
       "    \"partial_unexpected_list\": [],\n",
       "    \"missing_count\": 0,\n",
       "    \"missing_percent\": 0.0,\n",
       "    \"unexpected_percent_total\": 0.0,\n",
       "    \"unexpected_percent_nonmissing\": 0.0\n",
       "  },\n",
       "  \"meta\": {},\n",
       "  \"exception_info\": {\n",
       "    \"raised_exception\": false,\n",
       "    \"exception_traceback\": null,\n",
       "    \"exception_message\": null\n",
       "  }\n",
       "}"
      ]
     },
     "execution_count": 17,
     "metadata": {},
     "output_type": "execute_result"
    }
   ],
   "source": [
    "# Expectation 6 : Column `gender` must be in set ['Credit Card','Bank Transfer','PayPal','Cash','Debit Card']\n",
    "validator.expect_column_values_to_be_in_set('payment_method', ['Credit Card','Bank Transfer','PayPal','Cash','Debit Card'])"
   ]
  },
  {
   "cell_type": "markdown",
   "metadata": {},
   "source": [
    "## Expectation 4 - To Be In Type List"
   ]
  },
  {
   "cell_type": "code",
   "execution_count": null,
   "metadata": {},
   "outputs": [
    {
     "data": {
      "application/vnd.jupyter.widget-view+json": {
       "model_id": "611dcac31596428db24b43f9ba1f5d89",
       "version_major": 2,
       "version_minor": 0
      },
      "text/plain": [
       "Calculating Metrics:   0%|          | 0/1 [00:00<?, ?it/s]"
      ]
     },
     "metadata": {},
     "output_type": "display_data"
    },
    {
     "data": {
      "text/plain": [
       "{\n",
       "  \"success\": true,\n",
       "  \"result\": {\n",
       "    \"observed_value\": \"int64\"\n",
       "  },\n",
       "  \"meta\": {},\n",
       "  \"exception_info\": {\n",
       "    \"raised_exception\": false,\n",
       "    \"exception_traceback\": null,\n",
       "    \"exception_message\": null\n",
       "  }\n",
       "}"
      ]
     },
     "execution_count": 18,
     "metadata": {},
     "output_type": "execute_result"
    }
   ],
   "source": [
    "# Expectation 7 : Column `customer_id` must be in type list INTEGER\n",
    "validator.expect_column_values_to_be_in_type_list(column=\"customer_id\", type_list=[\"INT\"])"
   ]
  },
  {
   "cell_type": "markdown",
   "metadata": {},
   "source": [
    "## Expectation 5 - To be Not Null"
   ]
  },
  {
   "cell_type": "code",
   "execution_count": null,
   "metadata": {},
   "outputs": [
    {
     "data": {
      "application/vnd.jupyter.widget-view+json": {
       "model_id": "0a01deeb03344123be8382d48947ff56",
       "version_major": 2,
       "version_minor": 0
      },
      "text/plain": [
       "Calculating Metrics:   0%|          | 0/6 [00:00<?, ?it/s]"
      ]
     },
     "metadata": {},
     "output_type": "display_data"
    },
    {
     "data": {
      "text/plain": [
       "{\n",
       "  \"success\": true,\n",
       "  \"result\": {\n",
       "    \"element_count\": 20000,\n",
       "    \"unexpected_count\": 0,\n",
       "    \"unexpected_percent\": 0.0,\n",
       "    \"partial_unexpected_list\": []\n",
       "  },\n",
       "  \"meta\": {},\n",
       "  \"exception_info\": {\n",
       "    \"raised_exception\": false,\n",
       "    \"exception_traceback\": null,\n",
       "    \"exception_message\": null\n",
       "  }\n",
       "}"
      ]
     },
     "execution_count": 12,
     "metadata": {},
     "output_type": "execute_result"
    }
   ],
   "source": [
    "# Expectation 8 : Column `transaction_id` can not contain missing values\n",
    "validator.expect_column_values_to_not_be_null('transaction_id')"
   ]
  },
  {
   "cell_type": "code",
   "execution_count": null,
   "metadata": {},
   "outputs": [
    {
     "data": {
      "application/vnd.jupyter.widget-view+json": {
       "model_id": "9c8451fd46f04f39896919e53e609444",
       "version_major": 2,
       "version_minor": 0
      },
      "text/plain": [
       "Calculating Metrics:   0%|          | 0/6 [00:00<?, ?it/s]"
      ]
     },
     "metadata": {},
     "output_type": "display_data"
    },
    {
     "data": {
      "text/plain": [
       "{\n",
       "  \"success\": true,\n",
       "  \"result\": {\n",
       "    \"element_count\": 20000,\n",
       "    \"unexpected_count\": 0,\n",
       "    \"unexpected_percent\": 0.0,\n",
       "    \"partial_unexpected_list\": []\n",
       "  },\n",
       "  \"meta\": {},\n",
       "  \"exception_info\": {\n",
       "    \"raised_exception\": false,\n",
       "    \"exception_traceback\": null,\n",
       "    \"exception_message\": null\n",
       "  }\n",
       "}"
      ]
     },
     "execution_count": 20,
     "metadata": {},
     "output_type": "execute_result"
    }
   ],
   "source": [
    "# Expectation 9 : Column `purchase_date` can not contain missing values\n",
    "validator.expect_column_values_to_not_be_null('purchase_date')"
   ]
  },
  {
   "cell_type": "markdown",
   "metadata": {},
   "source": [
    "## Expectation 6 - To Be Match with Regex"
   ]
  },
  {
   "cell_type": "code",
   "execution_count": null,
   "metadata": {},
   "outputs": [
    {
     "data": {
      "application/vnd.jupyter.widget-view+json": {
       "model_id": "99d47dd680bd431989208a9339476e53",
       "version_major": 2,
       "version_minor": 0
      },
      "text/plain": [
       "Calculating Metrics:   0%|          | 0/8 [00:00<?, ?it/s]"
      ]
     },
     "metadata": {},
     "output_type": "display_data"
    },
    {
     "data": {
      "text/plain": [
       "{\n",
       "  \"success\": true,\n",
       "  \"result\": {\n",
       "    \"element_count\": 20000,\n",
       "    \"unexpected_count\": 0,\n",
       "    \"unexpected_percent\": 0.0,\n",
       "    \"partial_unexpected_list\": [],\n",
       "    \"missing_count\": 0,\n",
       "    \"missing_percent\": 0.0,\n",
       "    \"unexpected_percent_total\": 0.0,\n",
       "    \"unexpected_percent_nonmissing\": 0.0\n",
       "  },\n",
       "  \"meta\": {},\n",
       "  \"exception_info\": {\n",
       "    \"raised_exception\": false,\n",
       "    \"exception_traceback\": null,\n",
       "    \"exception_message\": null\n",
       "  }\n",
       "}"
      ]
     },
     "execution_count": 25,
     "metadata": {},
     "output_type": "execute_result"
    }
   ],
   "source": [
    "# Expectation 10 : Column `transaction_id` must be match with regex \"TRS\\d{6}\\d{4}$\"\n",
    "validator.expect_column_values_to_match_regex(column=\"transaction_id\",regex=\"^TRS\\d{6}\\d{4}$\")"
   ]
  },
  {
   "cell_type": "markdown",
   "metadata": {},
   "source": [
    "## Expectation 7 - To Be Greater Than"
   ]
  },
  {
   "cell_type": "code",
   "execution_count": null,
   "metadata": {},
   "outputs": [
    {
     "data": {
      "application/vnd.jupyter.widget-view+json": {
       "model_id": "4dc47298a9a24c7bb9a5674432e1801d",
       "version_major": 2,
       "version_minor": 0
      },
      "text/plain": [
       "Calculating Metrics:   0%|          | 0/7 [00:00<?, ?it/s]"
      ]
     },
     "metadata": {},
     "output_type": "display_data"
    },
    {
     "data": {
      "text/plain": [
       "{\n",
       "  \"success\": true,\n",
       "  \"result\": {\n",
       "    \"element_count\": 20000,\n",
       "    \"unexpected_count\": 0,\n",
       "    \"unexpected_percent\": 0.0,\n",
       "    \"partial_unexpected_list\": [],\n",
       "    \"missing_count\": 0,\n",
       "    \"missing_percent\": 0.0,\n",
       "    \"unexpected_percent_total\": 0.0,\n",
       "    \"unexpected_percent_nonmissing\": 0.0\n",
       "  },\n",
       "  \"meta\": {},\n",
       "  \"exception_info\": {\n",
       "    \"raised_exception\": false,\n",
       "    \"exception_traceback\": null,\n",
       "    \"exception_message\": null\n",
       "  }\n",
       "}"
      ]
     },
     "execution_count": 27,
     "metadata": {},
     "output_type": "execute_result"
    }
   ],
   "source": [
    "## Expectation 11 - column 'total_price' must be greater than 'unit_price'\n",
    "validator.expect_column_pair_values_a_to_be_greater_than_b(column_A=\"total_price\",column_B=\"unit_price\",or_equal=True)\n"
   ]
  },
  {
   "cell_type": "markdown",
   "metadata": {},
   "source": [
    "## Expectation 8 - Column Value Lenghts to Be Equal "
   ]
  },
  {
   "cell_type": "code",
   "execution_count": null,
   "metadata": {},
   "outputs": [
    {
     "data": {
      "application/vnd.jupyter.widget-view+json": {
       "model_id": "47b7f48ef87c406f9e8c2b728da5fec0",
       "version_major": 2,
       "version_minor": 0
      },
      "text/plain": [
       "Calculating Metrics:   0%|          | 0/9 [00:00<?, ?it/s]"
      ]
     },
     "metadata": {},
     "output_type": "display_data"
    },
    {
     "data": {
      "text/plain": [
       "{\n",
       "  \"success\": true,\n",
       "  \"result\": {\n",
       "    \"element_count\": 20000,\n",
       "    \"unexpected_count\": 0,\n",
       "    \"unexpected_percent\": 0.0,\n",
       "    \"partial_unexpected_list\": [],\n",
       "    \"missing_count\": 0,\n",
       "    \"missing_percent\": 0.0,\n",
       "    \"unexpected_percent_total\": 0.0,\n",
       "    \"unexpected_percent_nonmissing\": 0.0\n",
       "  },\n",
       "  \"meta\": {},\n",
       "  \"exception_info\": {\n",
       "    \"raised_exception\": false,\n",
       "    \"exception_traceback\": null,\n",
       "    \"exception_message\": null\n",
       "  }\n",
       "}"
      ]
     },
     "execution_count": 28,
     "metadata": {},
     "output_type": "execute_result"
    }
   ],
   "source": [
    "## Expectation 12 - column 'transaction_id' must be equal to 13\n",
    "validator.expect_column_value_lengths_to_equal(column=\"transaction_id\",value=13)"
   ]
  }
 ],
 "metadata": {
  "kernelspec": {
   "display_name": "base",
   "language": "python",
   "name": "python3"
  },
  "language_info": {
   "codemirror_mode": {
    "name": "ipython",
    "version": 3
   },
   "file_extension": ".py",
   "mimetype": "text/x-python",
   "name": "python",
   "nbconvert_exporter": "python",
   "pygments_lexer": "ipython3",
   "version": "3.12.4"
  }
 },
 "nbformat": 4,
 "nbformat_minor": 2
}
